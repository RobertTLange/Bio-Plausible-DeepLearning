{
 "cells": [
  {
   "cell_type": "code",
   "execution_count": 1,
   "metadata": {},
   "outputs": [],
   "source": [
    "!pip install -r requirements.txt --quiet"
   ]
  },
  {
   "cell_type": "code",
   "execution_count": 2,
   "metadata": {},
   "outputs": [
    {
     "data": {
      "text/html": [
       "<style>.container { width:100% !important; }</style>"
      ],
      "text/plain": [
       "<IPython.core.display.HTML object>"
      ]
     },
     "metadata": {},
     "output_type": "display_data"
    }
   ],
   "source": [
    "%matplotlib inline\n",
    "%load_ext autoreload\n",
    "%autoreload 2\n",
    "\n",
    "from IPython.core.display import display, HTML\n",
    "display(HTML(\"<style>.container { width:100% !important; }</style>\"))\n",
    "\n",
    "# Dont print depreciation warning\n",
    "import warnings\n",
    "warnings.filterwarnings(\"ignore\")"
   ]
  },
  {
   "cell_type": "code",
   "execution_count": 12,
   "metadata": {},
   "outputs": [],
   "source": [
    "# Import Packages\n",
    "import os\n",
    "import torch\n",
    "import torch.nn as nn\n",
    "import torchvision\n",
    "from torchvision import transforms\n",
    "\n",
    "# Import Network Architectures\n",
    "from DNN import eval_dnn\n",
    "\n",
    "# Import Bayesian Optimization Module\n",
    "from bayes_opt import BayesianOptimization, UtilityFunction"
   ]
  },
  {
   "cell_type": "code",
   "execution_count": 13,
   "metadata": {},
   "outputs": [],
   "source": [
    "optimizer = BayesianOptimization(\n",
    "    f=eval_dnn,\n",
    "    pbounds={'batch_size': (10, 500),\n",
    "             'learning_rate': (0.0001, 0.05),\n",
    "             'num_layers': (1, 6),\n",
    "             'h_l_1': (30, 500),\n",
    "             'h_l_2': (30, 500),\n",
    "             'h_l_3': (30, 500),\n",
    "             'h_l_4': (30, 500),\n",
    "             'h_l_5': (30, 500),\n",
    "             'h_l_6': (30, 500)},\n",
    "    verbose=2,\n",
    "    random_state=1,\n",
    ")\n",
    "\n",
    "utility = UtilityFunction(kind=\"ucb\", kappa=2.5, xi=0.0)"
   ]
  },
  {
   "cell_type": "code",
   "execution_count": 15,
   "metadata": {},
   "outputs": [
    {
     "name": "stdout",
     "output_type": "stream",
     "text": [
      "(0.7937312718898756, {'h_l_1': 227.02142176954857, 'h_l_3': 126.0925573738132, 'h_l_2': 352.053165186477, 'h_l_5': 42.872168803025296, 'h_l_4': 442.71519510374435, 'batch_size': 274.0201996616449, 'h_l_6': 345.11972978384904, 'num_layers': 3.7934491422287584, 'learning_rate': 0.020923509638119637})\n",
      "(0.9581139778238895, {'h_l_1': 190.75745295103226, 'h_l_3': 179.46858770296274, 'h_l_2': 57.89645168372384, 'h_l_5': 156.4602108037006, 'h_l_4': 150.24608652729165, 'batch_size': 162.10542331699202, 'h_l_6': 380.23858271860007, 'num_layers': 3.7681190091621777, 'learning_rate': 0.010203485503870131})\n",
      "(0.9432428424150995, {'h_l_1': 500.0, 'h_l_3': 500.0, 'h_l_2': 30.0, 'h_l_5': 500.0, 'h_l_4': 30.0, 'batch_size': 500.0, 'h_l_6': 30.0, 'num_layers': 1.0, 'learning_rate': 0.05})\n",
      "{'params': {'h_l_1': 190.75745295103226, 'h_l_3': 179.46858770296274, 'h_l_2': 57.89645168372384, 'h_l_5': 156.4602108037006, 'h_l_4': 150.24608652729165, 'batch_size': 162.10542331699202, 'h_l_6': 380.23858271860007, 'num_layers': 3.7681190091621777, 'learning_rate': 0.010203485503870131}, 'target': 0.9581139778238895}\n"
     ]
    }
   ],
   "source": [
    "for _ in range(3):\n",
    "    next_point = optimizer.suggest(utility)\n",
    "    # next_point = check_next_point_dnn(next_point)\n",
    "    target = eval_dnn(**next_point)\n",
    "    optimizer.register(params=next_point, target=target)   \n",
    "    print(target, next_point)\n",
    "print(optimizer.max)"
   ]
  },
  {
   "cell_type": "code",
   "execution_count": null,
   "metadata": {},
   "outputs": [],
   "source": []
  }
 ],
 "metadata": {
  "kernelspec": {
   "display_name": "Python (mns-project)",
   "language": "python",
   "name": "mns-project"
  },
  "language_info": {
   "codemirror_mode": {
    "name": "ipython",
    "version": 2
   },
   "file_extension": ".py",
   "mimetype": "text/x-python",
   "name": "python",
   "nbconvert_exporter": "python",
   "pygments_lexer": "ipython2",
   "version": "2.7.15"
  }
 },
 "nbformat": 4,
 "nbformat_minor": 2
}
