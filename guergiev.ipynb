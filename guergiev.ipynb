{
 "cells": [
  {
   "cell_type": "code",
   "execution_count": 10,
   "metadata": {},
   "outputs": [
    {
     "data": {
      "text/html": [
       "<style>.container { width:100% !important; }</style>"
      ],
      "text/plain": [
       "<IPython.core.display.HTML object>"
      ]
     },
     "metadata": {},
     "output_type": "display_data"
    }
   ],
   "source": [
    "%matplotlib inline\n",
    "%load_ext autoreload\n",
    "%autoreload 2\n",
    "\n",
    "from IPython.core.display import display, HTML\n",
    "display(HTML(\"<style>.container { width:100% !important; }</style>\"))"
   ]
  },
  {
   "cell_type": "code",
   "execution_count": 24,
   "metadata": {},
   "outputs": [],
   "source": [
    "import shutil\n",
    "from sklearn.model_selection import train_test_split\n",
    "\n",
    "# Import log-helper/learning plot functions\n",
    "from helpers import *\n",
    "from plotting import *"
   ]
  },
  {
   "cell_type": "code",
   "execution_count": 25,
   "metadata": {},
   "outputs": [],
   "source": [
    "# Create all necessary directory if non-existent\n",
    "data_dir = os.getcwd() +\"/data\"\n",
    "global data_dir\n",
    "\n",
    "if not os.path.exists(data_dir):\n",
    "    os.makedirs(data_dir)\n",
    "    print(\"Created New Data Directory\")"
   ]
  },
  {
   "cell_type": "code",
   "execution_count": 35,
   "metadata": {},
   "outputs": [
    {
     "name": "stdout",
     "output_type": "stream",
     "text": [
      "No download of MNIST needed.\n",
      "No download of Fashion-MNIST needed.\n",
      "No download of CIFAR-10 needed.\n"
     ]
    }
   ],
   "source": [
    "download_data()"
   ]
  },
  {
   "cell_type": "code",
   "execution_count": 53,
   "metadata": {},
   "outputs": [],
   "source": [
    "# MNIST dataset\n",
    "X_mnist, y_mnist = get_data(num_samples=70000, dataset=\"mnist\")\n",
    "\n",
    "X_train, X_test, y_train, y_test = train_test_split(X_mnist, y_mnist,\n",
    "                                                    stratify=y_mnist,\n",
    "                                                    random_state=0,\n",
    "                                                    test_size=1./7)"
   ]
  },
  {
   "cell_type": "code",
   "execution_count": 48,
   "metadata": {},
   "outputs": [],
   "source": [
    "def to_one_hot(y_train, y_test):\n",
    "    oh_y_train = np.zeros((y_train.shape[0], 10))\n",
    "    oh_y_test = np.zeros((y_test.shape[0], 10))\n",
    "    \n",
    "    oh_y_train[np.arange(oh_y_train.shape[0]), y_train] = 1\n",
    "    oh_y_test[np.arange(oh_y_test.shape[0]), y_test] = 1\n",
    "    \n",
    "    return oh_y_train, oh_y_test"
   ]
  },
  {
   "cell_type": "code",
   "execution_count": 55,
   "metadata": {},
   "outputs": [],
   "source": [
    "X_train = X_train.reshape(X_train.shape[0], 784)\n",
    "X_test = X_test.reshape(X_test.shape[0], 784)\n",
    "y_train, y_test = to_one_hot(y_train, y_test)\n",
    "X_train, X_test, y_train, y_test = X_train.T, X_test.T, y_train.T, y_test.T"
   ]
  },
  {
   "cell_type": "code",
   "execution_count": 56,
   "metadata": {},
   "outputs": [],
   "source": [
    "# Guergiev et al (2017) - Segregated Compartments DNN Learning\n",
    "import CompDNN as cdl\n",
    "# import CompDNN_helpers as cdl_h"
   ]
  },
  {
   "cell_type": "code",
   "execution_count": 75,
   "metadata": {},
   "outputs": [
    {
     "name": "stdout",
     "output_type": "stream",
     "text": [
      "Creating network with 2 layers.\n",
      "--------------------------------\n",
      "Current network weights:\n",
      "--------------------------------\n",
      "Layer 1 -- 10 units.\n",
      "\tW_avg: 0.028135,\tW_sd: 1.276514.\n",
      "\tb_avg: 0.800377,\tb_sd: 0.001790.\n",
      "Layer 0 -- 500 units.\n",
      "\tW_avg: 0.018213,\tW_sd: 1.010338.\n",
      "\tb_avg: 0.800078,\tb_sd: 0.001980.\n",
      "\tY_avg: -0.012782,\tY_sd: 2.800568.\n",
      "--------------------------------\n",
      "Starting training.\n",
      "\n",
      "Start of epoch 1.\n",
      "\n",
      "Epoch 1, example 1000/52500. QE: 48.00%. T: 3.727s.\n",
      "\n",
      "Epoch 1, example 2000/52500. QE: 31.00%. T: 3.576s.\n",
      "\n",
      "Epoch 1, example 3000/52500. QE: 11.00%. T: 3.940s.\n",
      "\n",
      "Epoch 1, example 4000/52500. QE: 14.00%. T: 3.865s.\n",
      "\n",
      "Epoch 1, example 5000/52500. QE: 13.00%. T: 3.396s.\n",
      "\n",
      "Epoch 1, example 6000/52500. QE: 15.00%. T: 4.043s.\n",
      "\n",
      "Epoch 1, example 7000/52500. QE: 22.00%. T: 3.832s.\n",
      "\n",
      "Epoch 1, example 8000/52500. QE: 10.00%. T: 3.729s.\n",
      "\n",
      "Epoch 1, example 9000/52500. QE: 14.00%. T: 3.342s.\n",
      "\n",
      "Epoch 1, example 10000/52500. QE: 07.00%. T: 3.817s.\n",
      "\n",
      "Epoch 1, example 11000/52500. QE: 11.00%. T: 3.784s.\n",
      "\n",
      "Epoch 1, example 12000/52500. QE: 11.00%. T: 4.671s.\n",
      "\n",
      "Epoch 1, example 13000/52500. QE: 14.00%. T: 3.255s.\n",
      "\n",
      "Epoch 1, example 14000/52500. QE: 14.00%. T: 2.968s.\n",
      "\n",
      "Epoch 1, example 15000/52500. QE: 15.00%. T: 2.981s.\n",
      "\n",
      "Epoch 1, example 16000/52500. QE: 08.00%. T: 4.078s.\n",
      "\n",
      "Epoch 1, example 17000/52500. QE: 13.00%. T: 3.964s.\n",
      "\n",
      "Epoch 1, example 18000/52500. QE: 15.00%. T: 3.547s.\n",
      "\n",
      "Epoch 1, example 19000/52500. QE: 11.00%. T: 3.728s.\n",
      "\n",
      "Epoch 1, example 20000/52500. QE: 15.00%. T: 4.822s.\n",
      "\n",
      "Epoch 1, example 21000/52500. QE: 07.00%. T: 3.942s.\n",
      "\n",
      "Epoch 1, example 22000/52500. QE: 12.00%. T: 3.402s.\n",
      "\n",
      "Epoch 1, example 23000/52500. QE: 07.00%. T: 3.298s.\n",
      "\n",
      "Epoch 1, example 24000/52500. QE: 09.00%. T: 4.453s.\n",
      "\n",
      "Epoch 1, example 25000/52500. QE: 09.00%. T: 3.510s.\n",
      "\n",
      "Epoch 1, example 26000/52500. QE: 11.00%. T: 3.361s.\n",
      "\n",
      "Epoch 1, example 27000/52500. QE: 10.00%. T: 3.307s.\n",
      "\n",
      "Epoch 1, example 28000/52500. QE: 12.00%. T: 3.265s.\n",
      "\n",
      "Epoch 1, example 29000/52500. QE: 12.00%. T: 4.739s.\n",
      "\n",
      "Epoch 1, example 30000/52500. QE: 13.00%. T: 3.587s.\n",
      "\n",
      "Epoch 1, example 31000/52500. QE: 06.00%. T: 3.387s.\n",
      "\n",
      "Epoch 1, example 32000/52500. QE: 08.00%. T: 5.172s.\n",
      "\n",
      "Epoch 1, example 33000/52500. QE: 04.00%. T: 4.195s.\n",
      "\n",
      "Epoch 1, example 34000/52500. QE: 02.00%. T: 4.517s.\n",
      "\n",
      "Epoch 1, example 35000/52500. QE: 05.00%. T: 4.396s.\n",
      "\n",
      "Epoch 1, example 36000/52500. QE: 06.00%. T: 3.849s.\n",
      "\n",
      "Epoch 1, example 37000/52500. QE: 11.00%. T: 4.199s.\n",
      "\n",
      "Epoch 1, example 38000/52500. QE: 08.00%. T: 3.486s.\n",
      "\n",
      "Epoch 1, example 39000/52500. QE: 05.00%. T: 3.329s.\n",
      "\n",
      "Epoch 1, example 40000/52500. QE: 10.00%. T: 3.500s.\n",
      "\n",
      "Epoch 1, example 41000/52500. QE: 07.00%. T: 3.321s.\n",
      "\n",
      "Epoch 1, example 42000/52500. QE: 12.00%. T: 3.367s.\n",
      "\n",
      "Epoch 1, example 43000/52500. QE: 05.00%. T: 3.430s.\n",
      "\n",
      "Epoch 1, example 44000/52500. QE: 08.00%. T: 3.300s.\n",
      "\n",
      "Epoch 1, example 45000/52500. QE: 05.00%. T: 3.981s.\n",
      "\n",
      "Epoch 1, example 46000/52500. QE: 04.00%. T: 3.756s.\n",
      "\n",
      "Epoch 1, example 47000/52500. QE: 08.00%. T: 3.878s.\n",
      "\n",
      "Epoch 1, example 48000/52500. QE: 07.00%. T: 3.350s.\n",
      "\n",
      "Epoch 1, example 49000/52500. QE: 03.00%. T: 3.379s.\n",
      "\n",
      "Epoch 1, example 50000/52500. QE: 06.00%. T: 3.996s.\n",
      "\n",
      "Epoch 1, example 51000/52500. QE: 06.00%. T: 3.733s.\n",
      "\n",
      "Epoch 1, example 52000/52500. QE: 05.00%. T: 3.713s.\n",
      "\n",
      "Epoch 2, example 1000/52500. QE: 05.00%. T: 6.904s.\n",
      "\n",
      "Epoch 2, example 1500/52500."
     ]
    },
    {
     "ename": "KeyboardInterrupt",
     "evalue": "",
     "output_type": "error",
     "traceback": [
      "\u001b[0;31m---------------------------------------------------------------------------\u001b[0m",
      "\u001b[0;31mKeyboardInterrupt\u001b[0m                         Traceback (most recent call last)",
      "\u001b[0;32m<ipython-input-75-9baf066fe070>\u001b[0m in \u001b[0;36m<module>\u001b[0;34m()\u001b[0m\n\u001b[1;32m     19\u001b[0m           \u001b[0mn_training_examples\u001b[0m\u001b[0;34m,\u001b[0m \u001b[0msave_simulation\u001b[0m\u001b[0;34m=\u001b[0m\u001b[0mTrue\u001b[0m\u001b[0;34m,\u001b[0m\u001b[0;34m\u001b[0m\u001b[0m\n\u001b[1;32m     20\u001b[0m           \u001b[0msimulations_folder\u001b[0m\u001b[0;34m=\u001b[0m\u001b[0;34m\"Simulations\"\u001b[0m\u001b[0;34m,\u001b[0m\u001b[0;34m\u001b[0m\u001b[0m\n\u001b[0;32m---> 21\u001b[0;31m           folder_name=\"Example Simulation\")\n\u001b[0m",
      "\u001b[0;32m/Users/rtl/Dropbox/PHD_ECN/COURSES/WiSe_2018_Models_of_Neural_Systems/PROJECT/CODE/CompDNN.py\u001b[0m in \u001b[0;36mtrain\u001b[0;34m(self, f_etas, b_etas, n_epochs, n_training_examples, save_simulation, simulations_folder, folder_name, overwrite, simulation_notes, current_epoch)\u001b[0m\n\u001b[1;32m    940\u001b[0m                         \u001b[0mnum_correct\u001b[0m \u001b[0;34m+=\u001b[0m \u001b[0;36m1\u001b[0m\u001b[0;34m\u001b[0m\u001b[0m\n\u001b[1;32m    941\u001b[0m \u001b[0;34m\u001b[0m\u001b[0m\n\u001b[0;32m--> 942\u001b[0;31m                 \u001b[0mself\u001b[0m\u001b[0;34m.\u001b[0m\u001b[0mt_phase\u001b[0m\u001b[0;34m(\u001b[0m\u001b[0mself\u001b[0m\u001b[0;34m.\u001b[0m\u001b[0mx\u001b[0m\u001b[0;34m,\u001b[0m \u001b[0mself\u001b[0m\u001b[0;34m.\u001b[0m\u001b[0mt\u001b[0m\u001b[0;34m.\u001b[0m\u001b[0mrepeat\u001b[0m\u001b[0;34m(\u001b[0m\u001b[0mself\u001b[0m\u001b[0;34m.\u001b[0m\u001b[0mn_neurons_per_category\u001b[0m\u001b[0;34m,\u001b[0m \u001b[0maxis\u001b[0m\u001b[0;34m=\u001b[0m\u001b[0;36m0\u001b[0m\u001b[0;34m)\u001b[0m\u001b[0;34m,\u001b[0m \u001b[0mn\u001b[0m\u001b[0;34m)\u001b[0m\u001b[0;34m\u001b[0m\u001b[0m\n\u001b[0m\u001b[1;32m    943\u001b[0m \u001b[0;34m\u001b[0m\u001b[0m\n\u001b[1;32m    944\u001b[0m                 \u001b[0;32mif\u001b[0m \u001b[0mrecord_loss\u001b[0m\u001b[0;34m:\u001b[0m\u001b[0;34m\u001b[0m\u001b[0m\n",
      "\u001b[0;32m/Users/rtl/Dropbox/PHD_ECN/COURSES/WiSe_2018_Models_of_Neural_Systems/PROJECT/CODE/CompDNN.py\u001b[0m in \u001b[0;36mt_phase\u001b[0;34m(self, x, t, training_num)\u001b[0m\n\u001b[1;32m    511\u001b[0m \u001b[0;34m\u001b[0m\u001b[0m\n\u001b[1;32m    512\u001b[0m             \u001b[0;31m# update weights\u001b[0m\u001b[0;34m\u001b[0m\u001b[0;34m\u001b[0m\u001b[0m\n\u001b[0;32m--> 513\u001b[0;31m             \u001b[0mself\u001b[0m\u001b[0;34m.\u001b[0m\u001b[0ml\u001b[0m\u001b[0;34m[\u001b[0m\u001b[0mm\u001b[0m\u001b[0;34m]\u001b[0m\u001b[0;34m.\u001b[0m\u001b[0mupdate_W\u001b[0m\u001b[0;34m(\u001b[0m\u001b[0;34m)\u001b[0m\u001b[0;34m\u001b[0m\u001b[0m\n\u001b[0m\u001b[1;32m    514\u001b[0m \u001b[0;34m\u001b[0m\u001b[0m\n\u001b[1;32m    515\u001b[0m         \u001b[0;32mif\u001b[0m \u001b[0mrecord_loss\u001b[0m\u001b[0;34m:\u001b[0m\u001b[0;34m\u001b[0m\u001b[0m\n",
      "\u001b[0;32m/Users/rtl/Dropbox/PHD_ECN/COURSES/WiSe_2018_Models_of_Neural_Systems/PROJECT/CODE/CompDNN.py\u001b[0m in \u001b[0;36mupdate_W\u001b[0;34m(self)\u001b[0m\n\u001b[1;32m   1438\u001b[0m             \u001b[0mself\u001b[0m\u001b[0;34m.\u001b[0m\u001b[0mdelta_b_bp\u001b[0m \u001b[0;34m=\u001b[0m \u001b[0mself\u001b[0m\u001b[0;34m.\u001b[0m\u001b[0mE_bp\u001b[0m\u001b[0;34m\u001b[0m\u001b[0m\n\u001b[1;32m   1439\u001b[0m \u001b[0;34m\u001b[0m\u001b[0m\n\u001b[0;32m-> 1440\u001b[0;31m         \u001b[0mself\u001b[0m\u001b[0;34m.\u001b[0m\u001b[0mdelta_W\u001b[0m        \u001b[0;34m=\u001b[0m \u001b[0mnp\u001b[0m\u001b[0;34m.\u001b[0m\u001b[0mdot\u001b[0m\u001b[0;34m(\u001b[0m\u001b[0mself\u001b[0m\u001b[0;34m.\u001b[0m\u001b[0mE\u001b[0m\u001b[0;34m,\u001b[0m \u001b[0mself\u001b[0m\u001b[0;34m.\u001b[0m\u001b[0maverage_PSP_B_f\u001b[0m\u001b[0;34m.\u001b[0m\u001b[0mT\u001b[0m\u001b[0;34m)\u001b[0m\u001b[0;34m\u001b[0m\u001b[0m\n\u001b[0m\u001b[1;32m   1441\u001b[0m         \u001b[0mself\u001b[0m\u001b[0;34m.\u001b[0m\u001b[0mnet\u001b[0m\u001b[0;34m.\u001b[0m\u001b[0mW\u001b[0m\u001b[0;34m[\u001b[0m\u001b[0mself\u001b[0m\u001b[0;34m.\u001b[0m\u001b[0mm\u001b[0m\u001b[0;34m]\u001b[0m \u001b[0;34m+=\u001b[0m \u001b[0;34m-\u001b[0m\u001b[0mself\u001b[0m\u001b[0;34m.\u001b[0m\u001b[0mnet\u001b[0m\u001b[0;34m.\u001b[0m\u001b[0mf_etas\u001b[0m\u001b[0;34m[\u001b[0m\u001b[0mself\u001b[0m\u001b[0;34m.\u001b[0m\u001b[0mm\u001b[0m\u001b[0;34m]\u001b[0m\u001b[0;34m*\u001b[0m\u001b[0mP_hidden\u001b[0m\u001b[0;34m*\u001b[0m\u001b[0mself\u001b[0m\u001b[0;34m.\u001b[0m\u001b[0mdelta_W\u001b[0m\u001b[0;34m\u001b[0m\u001b[0m\n\u001b[1;32m   1442\u001b[0m \u001b[0;34m\u001b[0m\u001b[0m\n",
      "\u001b[0;31mKeyboardInterrupt\u001b[0m: "
     ]
    }
   ],
   "source": [
    "if os.path.exists(os.getcwd() + \"/Simulations\"):\n",
    "    shutil.rmtree(os.getcwd() + \"/Simulations\")\n",
    "\n",
    "# silence 80% of feedback weights\n",
    "cdl.use_sparse_feedback = True\n",
    "\n",
    "# set training parameters\n",
    "f_etas = (0.21, 0.21)\n",
    "b_etas = None\n",
    "n_epochs = 10\n",
    "n_training_examples = X_train.shape[1]\n",
    "\n",
    "n=(500, 10)\n",
    "# create the network -- this will also load the MNIST dataset files\n",
    "net = cdl.Network(n, X_train, y_train, X_test, y_test)\n",
    "\n",
    "# train the network\n",
    "net.train(f_etas, b_etas, n_epochs,\n",
    "          n_training_examples, save_simulation=True,\n",
    "          simulations_folder=\"Simulations\",\n",
    "          folder_name=\"Example Simulation\")"
   ]
  },
  {
   "cell_type": "code",
   "execution_count": null,
   "metadata": {},
   "outputs": [],
   "source": [
    "# re-load the saved simulation & network\n",
    "net, f_etas, b_etas, n_training_examples = cdl.load_simulation(latest_epoch=9, folder_name=\"Example Simulation\", simulations_folder=\"Simulations\")\n",
    "\n",
    "# train the network for another 10 epochs\n",
    "net.train(f_etas, b_etas, n_epochs, n_training_examples, save_simulation=True, simulations_folder=\"Simulations\", folder_name=\"Example Simulation\")"
   ]
  },
  {
   "cell_type": "code",
   "execution_count": null,
   "metadata": {},
   "outputs": [],
   "source": []
  },
  {
   "cell_type": "code",
   "execution_count": null,
   "metadata": {},
   "outputs": [],
   "source": []
  },
  {
   "cell_type": "code",
   "execution_count": null,
   "metadata": {},
   "outputs": [],
   "source": []
  }
 ],
 "metadata": {
  "kernelspec": {
   "display_name": "Python (mns-project)",
   "language": "python",
   "name": "mns-project"
  },
  "language_info": {
   "codemirror_mode": {
    "name": "ipython",
    "version": 2
   },
   "file_extension": ".py",
   "mimetype": "text/x-python",
   "name": "python",
   "nbconvert_exporter": "python",
   "pygments_lexer": "ipython2",
   "version": "2.7.15"
  }
 },
 "nbformat": 4,
 "nbformat_minor": 2
}
