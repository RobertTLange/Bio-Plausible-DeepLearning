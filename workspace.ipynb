{
 "cells": [
  {
   "cell_type": "markdown",
   "metadata": {},
   "source": [
    "# MNS - Biological Plausible Deep Learning"
   ]
  },
  {
   "cell_type": "code",
   "execution_count": 1,
   "metadata": {
    "collapsed": true
   },
   "outputs": [],
   "source": [
    "!pip install -r requirements.txt --quiet"
   ]
  },
  {
   "cell_type": "code",
   "execution_count": 2,
   "metadata": {},
   "outputs": [
    {
     "data": {
      "text/html": [
       "<style>.container { width:100% !important; }</style>"
      ],
      "text/plain": [
       "<IPython.core.display.HTML object>"
      ]
     },
     "metadata": {},
     "output_type": "display_data"
    }
   ],
   "source": [
    "%matplotlib inline\n",
    "%load_ext autoreload\n",
    "%autoreload 2\n",
    "\n",
    "from IPython.core.display import display, HTML\n",
    "display(HTML(\"<style>.container { width:100% !important; }</style>\"))"
   ]
  },
  {
   "cell_type": "code",
   "execution_count": 4,
   "metadata": {},
   "outputs": [],
   "source": [
    "# Import Packages\n",
    "import os\n",
    "import torch\n",
    "import torch.nn as nn\n",
    "import torchvision\n",
    "from torchvision import transforms\n",
    "import tensorflow as tf\n",
    "from sklearn.model_selection import train_test_split\n",
    "\n",
    "# Import Network Architectures\n",
    "from DNN import DNN, train_dnn_model, get_test_error, eval_dnn\n",
    "from CNN import CNN, train_cnn_model\n",
    "\n",
    "# Import log-helper/learning plot functions\n",
    "from helpers import *\n",
    "from logger import get_latest_log_fname, process_logger\n",
    "\n",
    "# Import Bayesian Optimization Module\n",
    "from bayesian_opt import BO_NN"
   ]
  },
  {
   "cell_type": "code",
   "execution_count": 5,
   "metadata": {},
   "outputs": [
    {
     "name": "stdout",
     "output_type": "stream",
     "text": [
      "Torch Device: Local CPU\n",
      "Deleted Old Log Files in Existing Log Directory\n"
     ]
    }
   ],
   "source": [
    "# Device configuration\n",
    "device = torch.device('cuda' if torch.cuda.is_available() else 'cpu')\n",
    "if torch.cuda.is_available():\n",
    "    print(\"Torch Device: {}\".format(torch.cuda.get_device_name(0)))\n",
    "else:\n",
    "    print(\"Torch Device: Local CPU\")\n",
    "    \n",
    "# Remove files in log dir\n",
    "log_dir = os.getcwd() + \"/logs\"\n",
    "if not os.path.exists(log_dir):\n",
    "    os.makedirs(directory)\n",
    "    print(\"Created New Log Directory\")\n",
    "else:\n",
    "    filelist = [ f for f in os.listdir(log_dir) if f.endswith(\".bak\") ]\n",
    "    for f in filelist:\n",
    "        os.remove(os.path.join(mydir, f))\n",
    "    print(\"Deleted Old Log Files in Existing Log Directory\")"
   ]
  },
  {
   "cell_type": "markdown",
   "metadata": {},
   "source": [
    "# Load dataset\n",
    "train_dataset = torchvision.datasets.CIFAR10(root='../../data', \n",
    "                                             train=True, \n",
    "                                             transform=transforms.ToTensor(),  \n",
    "                                             download=True)\n",
    "\n",
    "test_dataset = torchvision.datasets.CIFAR10(root='../../data', \n",
    "                                            train=False, \n",
    "                                            transform=transforms.ToTensor())"
   ]
  },
  {
   "cell_type": "code",
   "execution_count": 6,
   "metadata": {},
   "outputs": [],
   "source": [
    "# MNIST dataset\n",
    "X, y = get_data(num_samples=70000)\n",
    "X_train, X_test, y_train, y_test = train_test_split(X, y,\n",
    "                                                    stratify=y,\n",
    "                                                    random_state=0)"
   ]
  },
  {
   "cell_type": "markdown",
   "metadata": {},
   "source": [
    "# Simple Feedforward Neural Net"
   ]
  },
  {
   "cell_type": "code",
   "execution_count": 7,
   "metadata": {},
   "outputs": [],
   "source": [
    "# Define batchsize for data-loading/Epochs for training\n",
    "batch_size = 100\n",
    "num_epochs = 5\n",
    "learning_rate = 0.001\n",
    "\n",
    "# Instantiate the model with layersize and Logging directory\n",
    "dnn_model = DNN(h_sizes=[784, 500], out_size=10)\n",
    "\n",
    "# Loss and optimizer\n",
    "criterion = nn.CrossEntropyLoss()\n",
    "optimizer = torch.optim.Adam(dnn_model.parameters(), lr=learning_rate)"
   ]
  },
  {
   "cell_type": "code",
   "execution_count": 9,
   "metadata": {},
   "outputs": [
    {
     "name": "stdout",
     "output_type": "stream",
     "text": [
      "train | epoch  1 | acc: 0.9930 | loss: 0.0285 | time: 3.57\n",
      "valid | epoch  1 | acc: 0.9766 | loss: 0.0793 | time: 0.22\n",
      "--------------------------------------------------\n",
      "train | epoch  2 | acc: 0.9957 | loss: 0.0204 | time: 3.69\n",
      "valid | epoch  2 | acc: 0.9779 | loss: 0.0805 | time: 0.22\n",
      "--------------------------------------------------\n",
      "train | epoch  3 | acc: 0.9972 | loss: 0.0148 | time: 3.57\n",
      "valid | epoch  3 | acc: 0.9780 | loss: 0.0820 | time: 0.23\n",
      "--------------------------------------------------\n",
      "train | epoch  4 | acc: 0.9977 | loss: 0.0117 | time: 3.77\n",
      "valid | epoch  4 | acc: 0.9770 | loss: 0.0857 | time: 0.23\n",
      "--------------------------------------------------\n",
      "train | epoch  5 | acc: 0.9983 | loss: 0.0092 | time: 3.54\n",
      "valid | epoch  5 | acc: 0.9789 | loss: 0.0857 | time: 0.23\n",
      "--------------------------------------------------\n",
      "Test Accuracy: 0.9916\n"
     ]
    }
   ],
   "source": [
    "model = train_dnn_model(dnn_model, num_epochs,\n",
    "                        X, y, batch_size,\n",
    "                        device, optimizer, criterion,\n",
    "                        model_fname =\"models/temp_model_dnn.ckpt\",\n",
    "                        verbose=True, logging=True)\n",
    "\n",
    "# Get test error\n",
    "score = get_test_error(\"dnn\", device, model, X_test, y_test)\n",
    "print(\"Test Accuracy: {}\".format(score))"
   ]
  },
  {
   "cell_type": "code",
   "execution_count": 11,
   "metadata": {},
   "outputs": [
    {
     "data": {
      "image/png": "[encoded data removed]",
      "text/plain": [
       "<Figure size 432x288 with 2 Axes>"
      ]
     },
     "metadata": {
      "needs_background": "light"
     },
     "output_type": "display_data"
    }
   ],
   "source": [
    "log_fname = get_latest_log_fname(log_dir)\n",
    "its, train_loss, val_loss, train_acc, val_acc = process_logger(log_fname)\n",
    "plot_learning(its, train_acc, val_acc, train_loss, val_loss, \"DNN - Learning Performance\")"
   ]
  },
  {
   "cell_type": "code",
   "execution_count": 12,
   "metadata": {},
   "outputs": [
    {
     "name": "stdout",
     "output_type": "stream",
     "text": [
      "Batchsize: 100\n",
      "Learning Rate: 0.001\n",
      "Architecture of Cross-Validated Network:\n",
      "\t Layer 0: 784 Units\n",
      "\t Layer 1: 500 Units\n",
      "Cross-Validation Score Fold 1: 0.970131984916\n",
      "Cross-Validation Score Fold 2: 0.970428148974\n",
      "Cross-Validation Score Fold 3: 0.96956838541\n"
     ]
    },
    {
     "data": {
      "text/plain": [
       "0.9700428397665121"
      ]
     },
     "execution_count": 12,
     "metadata": {},
     "output_type": "execute_result"
    }
   ],
   "source": [
    "# Run 3-fold cross-validation on specific architecture\n",
    "eval_dnn(batch_size, learning_rate,\n",
    "         num_layers=1, h_l_1=500,\n",
    "         k_fold=3, verbose=True)"
   ]
  },
  {
   "cell_type": "code",
   "execution_count": 13,
   "metadata": {},
   "outputs": [
    {
     "name": "stdout",
     "output_type": "stream",
     "text": [
      "BO iter  1 | cv-acc: 0.9610 | best-acc: 0.9610 | time: 33.56\n",
      "BO iter  2 | cv-acc: 0.9550 | best-acc: 0.9610 | time: 33.12\n",
      "BO iter  3 | cv-acc: 0.3878 | best-acc: 0.9610 | time: 58.43\n"
     ]
    }
   ],
   "source": [
    "# Run Bayesian Optimization (UCB-Acquisition Fct) on DNN\n",
    "hyper_space_dnn = {'batch_size': (10, 500),\n",
    "                   'learning_rate': (0.0001, 0.05),\n",
    "                   'num_layers': (1, 6),\n",
    "                   'h_l_1': (30, 500),\n",
    "                   'h_l_2': (30, 500),\n",
    "                   'h_l_3': (30, 500),\n",
    "                   'h_l_4': (30, 500),\n",
    "                   'h_l_5': (30, 500),\n",
    "                   'h_l_6': (30, 500)}\n",
    "\n",
    "opt_log = BO_NN(3, eval_dnn, hyper_space_dnn, verbose=True)"
   ]
  },
  {
   "cell_type": "markdown",
   "metadata": {},
   "source": [
    "# Simple Convolutional Neural Network"
   ]
  },
  {
   "cell_type": "code",
   "execution_count": 21,
   "metadata": {},
   "outputs": [],
   "source": [
    "# ConvNet Parameters\n",
    "ch_sizes = [1, 16, 32]\n",
    "k_sizes = [5, 5]\n",
    "stride = 1\n",
    "padding = 2\n",
    "out_size = 10\n",
    "num_epochs = 2\n",
    "learning_rate = 0.001\n",
    "\n",
    "# Instantiate the model with layersizes, Loss fct, optimizer\n",
    "cnn_model = CNN(ch_sizes, k_sizes,\n",
    "                stride, padding, out_size)\n",
    "criterion = nn.CrossEntropyLoss()\n",
    "optimizer = torch.optim.Adam(cnn_model.parameters(), lr=learning_rate)"
   ]
  },
  {
   "cell_type": "code",
   "execution_count": 22,
   "metadata": {},
   "outputs": [
    {
     "name": "stdout",
     "output_type": "stream",
     "text": [
      "train | epoch  1 | acc: 0.9454 | loss: 0.2052 | time: 61.62\n",
      "valid | epoch  1 | acc: 0.9802 | loss: 0.0649 | time: 4.07\n",
      "--------------------------------------------------\n",
      "train | epoch  2 | acc: 0.9851 | loss: 0.0487 | time: 60.76\n",
      "valid | epoch  2 | acc: 0.9856 | loss: 0.0455 | time: 4.07\n",
      "--------------------------------------------------\n",
      "Test Accuracy: 0.988285714286\n"
     ]
    }
   ],
   "source": [
    "model = train_cnn_model(cnn_model, num_epochs,\n",
    "                X, y, batch_size,\n",
    "                device, optimizer, criterion,\n",
    "                model_fname =\"models/temp_model_cnn.ckpt\",\n",
    "                verbose=True, logging=True)\n",
    "\n",
    "# Get test error\n",
    "score = get_test_error(\"cnn\", device, model, X_test, y_test)\n",
    "print(\"Test Accuracy: {}\".format(score))"
   ]
  },
  {
   "cell_type": "code",
   "execution_count": 23,
   "metadata": {},
   "outputs": [
    {
     "data": {
      "image/png": "[encoded data removed]",
      "text/plain": [
       "<Figure size 432x288 with 2 Axes>"
      ]
     },
     "metadata": {
      "needs_background": "light"
     },
     "output_type": "display_data"
    }
   ],
   "source": [
    "log_fname = get_latest_log_fname(log_dir)\n",
    "its, train_loss, val_loss, train_acc, val_acc = process_logger(log_fname)\n",
    "plot_learning(its, train_acc, val_acc, train_loss, val_loss, \"CNN - Learning Performance\")"
   ]
  },
  {
   "cell_type": "code",
   "execution_count": null,
   "metadata": {},
   "outputs": [],
   "source": [
    "# Run 3-fold cross-validation on specific architecture\n",
    "eval_cnn(batch_size, learning_rate,\n",
    "         num_layers=1, h_l_1=500,\n",
    "         k_fold=3, verbose=True)"
   ]
  },
  {
   "cell_type": "code",
   "execution_count": null,
   "metadata": {},
   "outputs": [],
   "source": [
    "# Run Bayesian Optimization (UCB-Acquisition Fct) on DNN\n",
    "hyper_space_cnn = {'batch_size': (10, 500),\n",
    "                   'learning_rate': (0.0001, 0.05),\n",
    "                   'num_layers': (1, 6),\n",
    "                   'h_l_1': (30, 500),\n",
    "                   'h_l_2': (30, 500),\n",
    "                   'h_l_3': (30, 500),\n",
    "                   'h_l_4': (30, 500),\n",
    "                   'h_l_5': (30, 500),\n",
    "                   'h_l_6': (30, 500)}\n",
    "\n",
    "opt_log = BO_NN(3, eval_dnn, hyper_space_dnn, verbose=True)"
   ]
  },
  {
   "cell_type": "markdown",
   "metadata": {},
   "source": [
    "## Guergiev et al (2017)"
   ]
  },
  {
   "cell_type": "code",
   "execution_count": null,
   "metadata": {
    "collapsed": true
   },
   "outputs": [],
   "source": [
    "import comp_dl as dl\n",
    "\n",
    "# silence 80% of feedback weights\n",
    "dl.use_sparse_feedback = True\n",
    "\n",
    "# set training parameters\n",
    "f_etas = (0.21, 0.21)\n",
    "b_etas = None\n",
    "n_epochs = 10\n",
    "n_training_examples = 60000\n",
    "\n",
    "# create the network -- this will also load the MNIST dataset files\n",
    "net = dl.Network(n=(500, 10))\n",
    "\n",
    "# train the network\n",
    "net.train(f_etas, b_etas, n_epochs,\n",
    "          n_training_examples, save_simulation=True,\n",
    "          simulations_folder=\"Simulations\",\n",
    "          folder_name=\"Example Simulation\")\n",
    "\n",
    "# re-load the saved simulation & network\n",
    "net, f_etas, b_etas, n_training_examples = dl.load_simulation(latest_epoch=9, folder_name=\"Example Simulation\", simulations_folder=\"Simulations\")\n",
    "\n",
    "# train the network for another 10 epochs\n",
    "net.train(f_etas, b_etas, n_epochs, n_training_examples, save_simulation=True, simulations_folder=\"Simulations\", folder_name=\"Example Simulation\")"
   ]
  },
  {
   "cell_type": "code",
   "execution_count": null,
   "metadata": {},
   "outputs": [],
   "source": [
    "nonspiking_mode         = True  # whether to run in non-spiking mode (real-valued outputs)\n",
    "use_rand_phase_lengths  = True  # use random phase lengths (chosen from Wald distribution)\n",
    "use_rand_plateau_times  = False # randomly sample the time of each neuron's apical plateau potential\n",
    "use_conductances        = True  # use conductances between dendrites and soma\n",
    "use_broadcast           = True  # use broadcast (ie. feedback to all layers comes from output layer)\n",
    "use_spiking_feedback    = True  # use spiking feedback\n",
    "use_spiking_feedforward = True  # use spiking feedforward input\n",
    "\n",
    "use_symmetric_weights   = False # enforce symmetric weights\n",
    "noisy_symmetric_weights = False # add noise to symmetric weights\n",
    "\n",
    "use_sparse_feedback     = False # use sparse feedback weights\n",
    "update_feedback_weights = False # update feedback weights\n",
    "use_backprop            = False # use error backpropagation\n",
    "use_apical_conductance  = False # use attenuated conductance from apical dendrite to soma\n",
    "use_weight_optimization = True  # attempt to optimize initial weights\n",
    "use_feedback_bias       = False # use biases in feedback paths\n",
    "initial_test            = False # whether to do an initial test on the test set prior to training\n",
    "\n",
    "record_backprop_angle   = False # record angle b/w hidden layer error signals and backprop-generated error signals\n",
    "record_loss             = True  # record final layer loss during training\n",
    "record_training_error   = True  # record training error during training\n",
    "record_training_labels  = True  # record labels of images that were shown during training\n",
    "record_phase_times      = False # record phase transition times across training\n",
    "record_plateau_times    = False # record plateau potential times for each neuron across training\n",
    "record_voltages         = False # record voltages of neurons during training (huge arrays for long simulations!)\n",
    "\n",
    "# --- Jacobian testing --- #\n",
    "record_eigvals          = False # record maximum eigenvalues for Jacobians\n",
    "record_matrices         = False # record Jacobian product & weight product matrices (huge arrays for long simulations!)\n",
    "plot_eigvals            = False # dynamically plot maximum eigenvalues for Jacobians\n",
    "\n",
    "default_simulations_folder = 'Simulations/' # folder in which to save simulations (edit accordingly)\n",
    "weight_cmap                = 'bone'         # color map to use for weight plotting\n",
    "\n",
    "dt  = 1.0        # time step (ms)\n",
    "mem = int(10/dt) # spike memory (time steps) - used to limit PSP integration of past spikes (for performance)\n",
    "\n",
    "l_f_phase      = int(50/dt)  # length of forward phase (time steps)\n",
    "l_t_phase      = int(50/dt)  # length of target phase (time steps)\n",
    "l_f_phase_test = int(250/dt) # length of forward phase for tests (time steps)\n",
    "\n",
    "integration_time      = l_f_phase - int(30/dt)      # time steps of integration of neuronal variables used for plasticity\n",
    "integration_time_test = l_f_phase_test - int(30/dt) # time steps of integration of neuronal variables during testing\n",
    "\n",
    "# 2nd set of hyperparameters\n",
    "lambda_max = 0.2*dt # maximum spike rate (spikes per time step)\n",
    "\n",
    "# kernel parameters\n",
    "tau_s = 3.0  # synaptic time constant\n",
    "tau_L = 10.0 # leak time constant\n",
    "\n",
    "# conductance parameters\n",
    "g_B = 0.6                                   # basal conductance\n",
    "g_A = 0.05 if use_apical_conductance else 0 # apical conductance\n",
    "g_L = 1.0/tau_L                             # leak conductance\n",
    "g_D = g_B                                   # dendritic conductance in output layer\n",
    "\n",
    "E_E = 8  # excitation reversal potential\n",
    "E_I = -8 # inhibition reversal potential\n",
    "\n",
    "# steady state constants\n",
    "k_B = g_B/(g_L + g_B + g_A)\n",
    "k_D = g_D/(g_L + g_D)\n",
    "k_I = 1.0/(g_L + g_D)\n",
    "\n",
    "# weight update constants\n",
    "P_hidden = 20.0/lambda_max      # hidden layer error signal scaling factor\n",
    "P_final  = 20.0/(lambda_max**2) # final layer error signal scaling factor"
   ]
  },
  {
   "cell_type": "code",
   "execution_count": null,
   "metadata": {},
   "outputs": [],
   "source": [
    "if nonspiking_mode:\n",
    "    # set parameters for non-spiking mode\n",
    "    use_rand_phase_lengths  = False\n",
    "    use_rand_plateau_times  = False\n",
    "    use_conductances        = False\n",
    "    use_spiking_feedforward = False\n",
    "    use_spiking_feedback    = False\n",
    "    record_phase_times      = False\n",
    "    record_plateau_times    = False\n",
    "    record_voltages         = False\n",
    "\n",
    "    l_f_phase             = 2\n",
    "    l_t_phase             = 2\n",
    "    l_f_phase_test        = 2\n",
    "    integration_time      = 1\n",
    "    integration_time_test = 1\n",
    "    mem                   = 1"
   ]
  },
  {
   "cell_type": "code",
   "execution_count": null,
   "metadata": {},
   "outputs": [],
   "source": [
    "if use_rand_phase_lengths:\n",
    "    # set minimum phase lengths\n",
    "    min_l_f_phase = l_f_phase\n",
    "    min_l_t_phase = l_t_phase"
   ]
  }
 ],
 "metadata": {
  "anaconda-cloud": {},
  "kernelspec": {
   "display_name": "Python (mns-project)",
   "language": "python",
   "name": "mns-project"
  },
  "language_info": {
   "codemirror_mode": {
    "name": "ipython",
    "version": 2
   },
   "file_extension": ".py",
   "mimetype": "text/x-python",
   "name": "python",
   "nbconvert_exporter": "python",
   "pygments_lexer": "ipython2",
   "version": "2.7.15"
  }
 },
 "nbformat": 4,
 "nbformat_minor": 2
}
