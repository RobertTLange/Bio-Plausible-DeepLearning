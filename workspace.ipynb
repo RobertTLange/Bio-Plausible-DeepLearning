{
 "cells": [
  {
   "cell_type": "markdown",
   "metadata": {},
   "source": [
    "# MNS - Biological Plausible Deep Learning"
   ]
  },
  {
   "cell_type": "code",
   "execution_count": 1,
   "metadata": {},
   "outputs": [],
   "source": [
    "!pip install -r requirements.txt --quiet"
   ]
  },
  {
   "cell_type": "code",
   "execution_count": 2,
   "metadata": {},
   "outputs": [],
   "source": [
    "%matplotlib inline\n",
    "%load_ext autoreload\n",
    "%autoreload"
   ]
  },
  {
   "cell_type": "code",
   "execution_count": 3,
   "metadata": {},
   "outputs": [
    {
     "data": {
      "text/html": [
       "<style>.container { width:100% !important; }</style>"
      ],
      "text/plain": [
       "<IPython.core.display.HTML object>"
      ]
     },
     "metadata": {},
     "output_type": "display_data"
    }
   ],
   "source": [
    "from IPython.core.display import display, HTML\n",
    "display(HTML(\"<style>.container { width:100% !important; }</style>\"))\n",
    "# Import Packages\n",
    "import tensorflow as tf\n",
    "import torch\n",
    "import torch.nn as nn\n",
    "import torchvision\n",
    "from torchvision import transforms\n",
    "from logger import Logger\n",
    "\n",
    "# Import Network Architectures\n",
    "from DNN import DNN, train_dnn_model\n",
    "from CNN import CNN, train_cnn_model"
   ]
  },
  {
   "cell_type": "code",
   "execution_count": 4,
   "metadata": {
    "collapsed": true
   },
   "outputs": [],
   "source": [
    "# Device configuration\n",
    "device = torch.device('cuda' if torch.cuda.is_available() else 'cpu')\n",
    "\n",
    "# Define batchsize for data-loading\n",
    "batch_size = 100"
   ]
  },
  {
   "cell_type": "code",
   "execution_count": 5,
   "metadata": {},
   "outputs": [],
   "source": [
    "# MNIST dataset \n",
    "train_dataset = torchvision.datasets.MNIST(root='../../data', \n",
    "                                           train=True, \n",
    "                                           transform=transforms.ToTensor(),  \n",
    "                                           download=True)\n",
    "\n",
    "test_dataset = torchvision.datasets.MNIST(root='../../data', \n",
    "                                          train=False, \n",
    "                                          transform=transforms.ToTensor())\n",
    "\n",
    "# Data loader\n",
    "train_loader = torch.utils.data.DataLoader(dataset=train_dataset, \n",
    "                                           batch_size=batch_size, \n",
    "                                           shuffle=True)\n",
    "\n",
    "test_loader = torch.utils.data.DataLoader(dataset=test_dataset, \n",
    "                                          batch_size=batch_size, \n",
    "                                          shuffle=False)"
   ]
  },
  {
   "cell_type": "code",
   "execution_count": null,
   "metadata": {
    "collapsed": true
   },
   "outputs": [],
   "source": [
    "# CIFAR10 dataset\n",
    "train_dataset = torchvision.datasets.CIFAR10(root='../../data', \n",
    "                                             train=True, \n",
    "                                             transform=transforms.ToTensor(),  \n",
    "                                             download=True)\n",
    "\n",
    "test_dataset = torchvision.datasets.CIFAR10(root='../../data', \n",
    "                                            train=False, \n",
    "                                            transform=transforms.ToTensor())"
   ]
  },
  {
   "cell_type": "markdown",
   "metadata": {},
   "source": [
    "# Simple Feedforward Neural Net"
   ]
  },
  {
   "cell_type": "code",
   "execution_count": 6,
   "metadata": {},
   "outputs": [],
   "source": [
    "# Feedforward Neural Network Parameters\n",
    "input_size = 784\n",
    "hidden_size = 500\n",
    "num_classes = 10\n",
    "num_epochs = 5\n",
    "learning_rate = 0.001\n",
    "\n",
    "# Instantiate the model with layersize and Logging directory\n",
    "dnn_model = DNN(input_size, hidden_size, num_classes).to(device)\n",
    "logger = Logger('./logs')\n",
    "\n",
    "# Loss and optimizer\n",
    "criterion = nn.CrossEntropyLoss()\n",
    "optimizer = torch.optim.Adam(dnn_model.parameters(), lr=learning_rate)"
   ]
  },
  {
   "cell_type": "code",
   "execution_count": 8,
   "metadata": {},
   "outputs": [
    {
     "name": "stdout",
     "output_type": "stream",
     "text": [
      "Epoch [1/5], Step [100/600], Loss: 0.3487, Train Acc: 0.87, Test Acc: 0.90\n",
      "Epoch [1/5], Step [200/600], Loss: 0.3167, Train Acc: 0.89, Test Acc: 0.93\n",
      "Epoch [1/5], Step [300/600], Loss: 0.2060, Train Acc: 0.95, Test Acc: 0.94\n",
      "Epoch [1/5], Step [400/600], Loss: 0.3221, Train Acc: 0.93, Test Acc: 0.94\n",
      "Epoch [1/5], Step [500/600], Loss: 0.0613, Train Acc: 1.00, Test Acc: 0.96\n",
      "Epoch [1/5], Step [600/600], Loss: 0.1674, Train Acc: 0.97, Test Acc: 0.96\n",
      "Epoch [2/5], Step [100/600], Loss: 0.1259, Train Acc: 0.97, Test Acc: 0.96\n",
      "Epoch [2/5], Step [200/600], Loss: 0.0741, Train Acc: 0.98, Test Acc: 0.96\n",
      "Epoch [2/5], Step [300/600], Loss: 0.0786, Train Acc: 0.96, Test Acc: 0.96\n",
      "Epoch [2/5], Step [400/600], Loss: 0.0626, Train Acc: 0.98, Test Acc: 0.97\n",
      "Epoch [2/5], Step [500/600], Loss: 0.1114, Train Acc: 0.97, Test Acc: 0.97\n",
      "Epoch [2/5], Step [600/600], Loss: 0.0808, Train Acc: 0.98, Test Acc: 0.97\n",
      "Epoch [3/5], Step [100/600], Loss: 0.0410, Train Acc: 0.99, Test Acc: 0.97\n",
      "Epoch [3/5], Step [200/600], Loss: 0.0373, Train Acc: 0.99, Test Acc: 0.97\n",
      "Epoch [3/5], Step [300/600], Loss: 0.0705, Train Acc: 0.99, Test Acc: 0.97\n",
      "Epoch [3/5], Step [400/600], Loss: 0.1215, Train Acc: 0.97, Test Acc: 0.98\n",
      "Epoch [3/5], Step [500/600], Loss: 0.0308, Train Acc: 0.99, Test Acc: 0.97\n",
      "Epoch [3/5], Step [600/600], Loss: 0.0784, Train Acc: 0.98, Test Acc: 0.97\n",
      "Epoch [4/5], Step [100/600], Loss: 0.0526, Train Acc: 0.98, Test Acc: 0.98\n",
      "Epoch [4/5], Step [200/600], Loss: 0.0766, Train Acc: 0.98, Test Acc: 0.98\n",
      "Epoch [4/5], Step [300/600], Loss: 0.0134, Train Acc: 1.00, Test Acc: 0.97\n",
      "Epoch [4/5], Step [400/600], Loss: 0.0481, Train Acc: 0.98, Test Acc: 0.98\n",
      "Epoch [4/5], Step [500/600], Loss: 0.1067, Train Acc: 0.98, Test Acc: 0.98\n",
      "Epoch [4/5], Step [600/600], Loss: 0.0492, Train Acc: 0.99, Test Acc: 0.98\n",
      "Epoch [5/5], Step [100/600], Loss: 0.0987, Train Acc: 0.97, Test Acc: 0.98\n",
      "Epoch [5/5], Step [200/600], Loss: 0.0328, Train Acc: 0.99, Test Acc: 0.98\n",
      "Epoch [5/5], Step [300/600], Loss: 0.0567, Train Acc: 0.98, Test Acc: 0.98\n",
      "Epoch [5/5], Step [400/600], Loss: 0.0097, Train Acc: 1.00, Test Acc: 0.98\n",
      "Epoch [5/5], Step [500/600], Loss: 0.0080, Train Acc: 1.00, Test Acc: 0.98\n",
      "Epoch [5/5], Step [600/600], Loss: 0.0360, Train Acc: 0.98, Test Acc: 0.98\n"
     ]
    }
   ],
   "source": [
    "train_dnn_model(dnn_model, num_epochs,\n",
    "                train_loader, test_loader,\n",
    "                device, optimizer, model_fname =\"temp_model.ckpt\",\n",
    "                verbose=True, logging=True)"
   ]
  },
  {
   "cell_type": "code",
   "execution_count": 11,
   "metadata": {},
   "outputs": [],
   "source": [
    "# Instantiate the model with layersize and Logging directory\n",
    "cnn_model = CNN(num_classes).to(device)\n",
    "logger = Logger('./logs')\n",
    "\n",
    "# Loss and optimizer\n",
    "criterion = nn.CrossEntropyLoss()\n",
    "optimizer = torch.optim.Adam(cnn_model.parameters(), lr=learning_rate)"
   ]
  },
  {
   "cell_type": "code",
   "execution_count": 13,
   "metadata": {},
   "outputs": [
    {
     "name": "stdout",
     "output_type": "stream",
     "text": [
      "Epoch [1/5], Step [100/600], Loss: 0.1766\n",
      "Epoch [1/5], Step [200/600], Loss: 0.0925\n",
      "Epoch [1/5], Step [300/600], Loss: 0.1070\n",
      "Epoch [1/5], Step [400/600], Loss: 0.0753\n",
      "Epoch [1/5], Step [500/600], Loss: 0.0485\n",
      "Epoch [1/5], Step [600/600], Loss: 0.1316\n",
      "Epoch [2/5], Step [100/600], Loss: 0.0281\n",
      "Epoch [2/5], Step [200/600], Loss: 0.0775\n",
      "Epoch [2/5], Step [300/600], Loss: 0.0333\n",
      "Epoch [2/5], Step [400/600], Loss: 0.0205\n",
      "Epoch [2/5], Step [500/600], Loss: 0.0211\n",
      "Epoch [2/5], Step [600/600], Loss: 0.0409\n",
      "Epoch [3/5], Step [100/600], Loss: 0.0187\n",
      "Epoch [3/5], Step [200/600], Loss: 0.0471\n",
      "Epoch [3/5], Step [300/600], Loss: 0.0242\n",
      "Epoch [3/5], Step [400/600], Loss: 0.0442\n",
      "Epoch [3/5], Step [500/600], Loss: 0.0145\n",
      "Epoch [3/5], Step [600/600], Loss: 0.0544\n",
      "Epoch [4/5], Step [100/600], Loss: 0.0190\n",
      "Epoch [4/5], Step [200/600], Loss: 0.0498\n",
      "Epoch [4/5], Step [300/600], Loss: 0.0228\n",
      "Epoch [4/5], Step [400/600], Loss: 0.0872\n",
      "Epoch [4/5], Step [500/600], Loss: 0.0284\n",
      "Epoch [4/5], Step [600/600], Loss: 0.0926\n",
      "Epoch [5/5], Step [100/600], Loss: 0.0124\n",
      "Epoch [5/5], Step [200/600], Loss: 0.0468\n",
      "Epoch [5/5], Step [300/600], Loss: 0.0470\n",
      "Epoch [5/5], Step [400/600], Loss: 0.0362\n",
      "Epoch [5/5], Step [500/600], Loss: 0.0038\n",
      "Epoch [5/5], Step [600/600], Loss: 0.0414\n"
     ]
    }
   ],
   "source": [
    "# Train the model\n",
    "total_step = len(train_loader)\n",
    "for epoch in range(num_epochs):\n",
    "    for i, (images, labels) in enumerate(train_loader):\n",
    "        images = images.to(device)\n",
    "        labels = labels.to(device)\n",
    "        \n",
    "        # Forward pass\n",
    "        outputs = cnn_model(images)\n",
    "        loss = criterion(outputs, labels)\n",
    "        \n",
    "        # Backward and optimize\n",
    "        optimizer.zero_grad()\n",
    "        loss.backward()\n",
    "        optimizer.step()\n",
    "        \n",
    "        if (i+1) % 100 == 0:\n",
    "            print ('Epoch [{}/{}], Step [{}/{}], Loss: {:.4f}' \n",
    "                   .format(epoch+1, num_epochs, i+1, total_step, loss.item()))\n"
   ]
  },
  {
   "cell_type": "code",
   "execution_count": null,
   "metadata": {
    "collapsed": true
   },
   "outputs": [],
   "source": []
  }
 ],
 "metadata": {
  "anaconda-cloud": {},
  "kernelspec": {
   "display_name": "Python (mns-project)",
   "language": "python",
   "name": "mns-project"
  },
  "language_info": {
   "codemirror_mode": {
    "name": "ipython",
    "version": 2
   },
   "file_extension": ".py",
   "mimetype": "text/x-python",
   "name": "python",
   "nbconvert_exporter": "python",
   "pygments_lexer": "ipython2",
   "version": "2.7.15"
  }
 },
 "nbformat": 4,
 "nbformat_minor": 2
}
